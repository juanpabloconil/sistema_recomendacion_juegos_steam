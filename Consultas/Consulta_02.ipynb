{
 "cells": [
  {
   "cell_type": "markdown",
   "metadata": {},
   "source": [
    "## Consulta API 2"
   ]
  },
  {
   "cell_type": "markdown",
   "metadata": {},
   "source": [
    "Esta consulta devuelve un diccionario con cantidad de dinero gastado por el usuario, el porcentaje de recomendación en base a reviews.recommend y cantidad de items.\n",
    "\n",
    "Endpoint: def userdata( User_id : str ):\\\n",
    "Ejemplo de retorno: {\"Usuario X\" : us213ndjss09sdf, \"Dinero gastado\": 200 USD, \"% de recomendación\": 20%, \"cantidad de items\": 5} \n",
    "\n"
   ]
  },
  {
   "cell_type": "markdown",
   "metadata": {},
   "source": [
    "*Importamos la librería y el módilo necesarios para el procesamiento de los datos*"
   ]
  },
  {
   "cell_type": "code",
   "execution_count": 1,
   "metadata": {},
   "outputs": [],
   "source": [
    "import pandas as pd\n",
    "import csv"
   ]
  },
  {
   "cell_type": "markdown",
   "metadata": {},
   "source": [
    "*Importamos los archivos con los que vamos a trabajar la consulta*"
   ]
  },
  {
   "cell_type": "code",
   "execution_count": 2,
   "metadata": {},
   "outputs": [],
   "source": [
    "df_games = pd.read_parquet(r'C:\\Users\\beatr\\OneDrive\\Escritorio\\henry\\Proyecto Steam\\Consulta_Data\\df_games_clean.parquet')\n",
    "df_items = pd.read_parquet(r'C:\\Users\\beatr\\OneDrive\\Escritorio\\henry\\Proyecto Steam\\Consulta_Data\\df_items_clean.parquet')\n",
    "df_reviews = pd.read_parquet(r'C:\\Users\\beatr\\OneDrive\\Escritorio\\henry\\Proyecto Steam\\Consulta_Data\\df_reviews_clean.parquet')"
   ]
  },
  {
   "cell_type": "markdown",
   "metadata": {},
   "source": [
    "*Realizamos una copia para trabajar sobre ella y mantener los datos intactos en el archivo original.*"
   ]
  },
  {
   "cell_type": "code",
   "execution_count": 3,
   "metadata": {},
   "outputs": [],
   "source": [
    "games_copy = df_games.copy()\n",
    "items_copy = df_items.copy()\n",
    "reviews_copy = df_reviews.copy()"
   ]
  },
  {
   "cell_type": "markdown",
   "metadata": {},
   "source": [
    "*(Opcional). Podemos hacer una visualización previa de cada dataset para hacer cualquier análsis previo.*"
   ]
  },
  {
   "cell_type": "markdown",
   "metadata": {},
   "source": [
    "*Desarrollamos la función correspondiente para hacer la consulta que necesitamos*"
   ]
  },
  {
   "cell_type": "code",
   "execution_count": 4,
   "metadata": {},
   "outputs": [],
   "source": [
    "def userdata(User_id, items_copy, games_copy, reviews_copy):\n",
    "    # Convertir la columna 'user_id' a str\n",
    "    items_copy['user_id'] = items_copy['user_id'].astype(str)\n",
    "    reviews_copy['user_id'] = reviews_copy['user_id'].astype(str)\n",
    "\n",
    "# Filtrar df_Items por el user_id dado\n",
    "    user_items = items_copy[items_copy['user_id'] == str(User_id)]\n",
    "\n",
    "# Calcular la cantidad de dinero gastado por el usuario\n",
    "# Convertir la columna 'price' a numérica\n",
    "    games_copy['price'] = pd.to_numeric(games_copy['price'], errors='coerce')\n",
    "    money_spent = user_items.merge(games_copy[['id', 'price']], left_on='item_id', right_on='id')['price'].sum()\n",
    "\n",
    "# Calcular la cantidad total de items del usuario\n",
    "    total_items = user_items['items_count'].sum()\n",
    "\n",
    "# Filtrar df_reviews por el user_id dado\n",
    "    user_reviews = reviews_copy[reviews_copy['user_id'] == str(User_id)]\n",
    "\n",
    "# Calcular el porcentaje de recomendación promedio del usuario\n",
    "    if user_reviews.shape[0] > 0:\n",
    "        recommendation_percentage = (user_reviews['recommend'].sum() / user_reviews.shape[0]) * 100\n",
    "    else:\n",
    "        recommendation_percentage = 0\n",
    "\n",
    "# Crear el diccionario de resultados\n",
    "    result = {\n",
    "        \"Usuario\": str(User_id),\n",
    "        \"Dinero gastado\": f\"{money_spent:.2f} USD\",  # Ajustamos el formato para mostrar dos decimales\n",
    "        \"% de recomendación\": f\"{recommendation_percentage:.2f}%\",\n",
    "        \"Cantidad de items\": total_items\n",
    "    }\n",
    "\n",
    "    return result\n"
   ]
  },
  {
   "cell_type": "markdown",
   "metadata": {},
   "source": [
    "*Aplicamos la función y corroboramos que funcione correctamente*"
   ]
  },
  {
   "cell_type": "code",
   "execution_count": 5,
   "metadata": {},
   "outputs": [
    {
     "name": "stdout",
     "output_type": "stream",
     "text": [
      "{'Usuario': '', 'Dinero gastado': '0.00 USD', '% de recomendación': '0.00%', 'Cantidad de items': 0}\n"
     ]
    }
   ],
   "source": [
    "# Ejemplo de uso: input:76561198070234207\n",
    "usuario = input(\"Ingrese id de usuario: \")\n",
    "resultado = userdata(usuario, items_copy, games_copy, reviews_copy)\n",
    "print(resultado)"
   ]
  }
 ],
 "metadata": {
  "kernelspec": {
   "display_name": "Python 3",
   "language": "python",
   "name": "python3"
  },
  "language_info": {
   "codemirror_mode": {
    "name": "ipython",
    "version": 3
   },
   "file_extension": ".py",
   "mimetype": "text/x-python",
   "name": "python",
   "nbconvert_exporter": "python",
   "pygments_lexer": "ipython3",
   "version": "3.11.9"
  }
 },
 "nbformat": 4,
 "nbformat_minor": 2
}
