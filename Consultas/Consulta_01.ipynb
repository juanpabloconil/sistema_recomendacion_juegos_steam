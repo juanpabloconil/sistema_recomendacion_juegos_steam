{
 "cells": [
  {
   "cell_type": "markdown",
   "metadata": {},
   "source": [
    "## Consulta 01"
   ]
  },
  {
   "cell_type": "markdown",
   "metadata": {},
   "source": [
    "Esta consulta devuelve una tabla que indica la cantidad de items y porcentaje de contenido Free por año según la empresa desarrolladora.\n",
    "\n",
    "Endpoint: def developer( desarrollador : str )"
   ]
  },
  {
   "cell_type": "markdown",
   "metadata": {},
   "source": [
    "*Importamos la librería y módulo necesarios para el procesamiento de los datos*"
   ]
  },
  {
   "cell_type": "code",
   "execution_count": 1,
   "metadata": {},
   "outputs": [],
   "source": [
    "import pandas as pd\n",
    "import csv\n",
    "#from fastapi import FastAPI"
   ]
  },
  {
   "cell_type": "markdown",
   "metadata": {},
   "source": [
    "*Importamos el archivo con el que vamos a trabajar la consulta*"
   ]
  },
  {
   "cell_type": "code",
   "execution_count": 2,
   "metadata": {},
   "outputs": [],
   "source": [
    "df = pd.read_parquet(r'C:\\Users\\beatr\\OneDrive\\Escritorio\\henry\\Proyecto Steam\\Consulta_Data\\df_games_clean.parquet')"
   ]
  },
  {
   "cell_type": "markdown",
   "metadata": {},
   "source": [
    "*Realizamos una copia para trabajar sobre ella y mantener los datos intactos en el archivo original.*"
   ]
  },
  {
   "cell_type": "code",
   "execution_count": 3,
   "metadata": {},
   "outputs": [],
   "source": [
    "df_games_copy = df.copy()"
   ]
  },
  {
   "cell_type": "markdown",
   "metadata": {},
   "source": [
    "*(Opcional). Podemos hacer una visualización previa del dataset para hacer cualquier análsis previo.*"
   ]
  },
  {
   "cell_type": "code",
   "execution_count": 7,
   "metadata": {},
   "outputs": [
    {
     "data": {
      "text/html": [
       "<div>\n",
       "<style scoped>\n",
       "    .dataframe tbody tr th:only-of-type {\n",
       "        vertical-align: middle;\n",
       "    }\n",
       "\n",
       "    .dataframe tbody tr th {\n",
       "        vertical-align: top;\n",
       "    }\n",
       "\n",
       "    .dataframe thead th {\n",
       "        text-align: right;\n",
       "    }\n",
       "</style>\n",
       "<table border=\"1\" class=\"dataframe\">\n",
       "  <thead>\n",
       "    <tr style=\"text-align: right;\">\n",
       "      <th></th>\n",
       "      <th>id</th>\n",
       "      <th>app_name</th>\n",
       "      <th>genres</th>\n",
       "      <th>price</th>\n",
       "      <th>release_date</th>\n",
       "      <th>developer</th>\n",
       "    </tr>\n",
       "  </thead>\n",
       "  <tbody>\n",
       "    <tr>\n",
       "      <th>88310</th>\n",
       "      <td>761140</td>\n",
       "      <td>Lost Summoner Kitty</td>\n",
       "      <td>Action, Casual, Indie, Simulation, Strategy</td>\n",
       "      <td>4.99</td>\n",
       "      <td>2018-01-04</td>\n",
       "      <td>Kotoshiro</td>\n",
       "    </tr>\n",
       "    <tr>\n",
       "      <th>88311</th>\n",
       "      <td>643980</td>\n",
       "      <td>Ironbound</td>\n",
       "      <td>Indie, RPG, Strategy</td>\n",
       "      <td>NaN</td>\n",
       "      <td>2018-01-04</td>\n",
       "      <td>Secret Level SRL</td>\n",
       "    </tr>\n",
       "    <tr>\n",
       "      <th>88312</th>\n",
       "      <td>670290</td>\n",
       "      <td>Real Pool 3D - Poolians</td>\n",
       "      <td>Casual, Indie, Simulation, Sports</td>\n",
       "      <td>NaN</td>\n",
       "      <td>2017-07-24</td>\n",
       "      <td>Poolians.com</td>\n",
       "    </tr>\n",
       "    <tr>\n",
       "      <th>88313</th>\n",
       "      <td>767400</td>\n",
       "      <td>弹炸人2222</td>\n",
       "      <td>Action, Adventure, Casual</td>\n",
       "      <td>0.99</td>\n",
       "      <td>2017-12-07</td>\n",
       "      <td>彼岸领域</td>\n",
       "    </tr>\n",
       "    <tr>\n",
       "      <th>88314</th>\n",
       "      <td>773570</td>\n",
       "      <td>Log Challenge</td>\n",
       "      <td>Action, Indie, Casual, Sports</td>\n",
       "      <td>2.99</td>\n",
       "      <td>None</td>\n",
       "      <td>None</td>\n",
       "    </tr>\n",
       "    <tr>\n",
       "      <th>...</th>\n",
       "      <td>...</td>\n",
       "      <td>...</td>\n",
       "      <td>...</td>\n",
       "      <td>...</td>\n",
       "      <td>...</td>\n",
       "      <td>...</td>\n",
       "    </tr>\n",
       "    <tr>\n",
       "      <th>120440</th>\n",
       "      <td>773640</td>\n",
       "      <td>Colony On Mars</td>\n",
       "      <td>Casual, Indie, Simulation, Strategy</td>\n",
       "      <td>1.99</td>\n",
       "      <td>2018-01-04</td>\n",
       "      <td>Nikita \"Ghost_RUS\"</td>\n",
       "    </tr>\n",
       "    <tr>\n",
       "      <th>120441</th>\n",
       "      <td>733530</td>\n",
       "      <td>LOGistICAL: South Africa</td>\n",
       "      <td>Casual, Indie, Strategy</td>\n",
       "      <td>4.99</td>\n",
       "      <td>2018-01-04</td>\n",
       "      <td>Sacada</td>\n",
       "    </tr>\n",
       "    <tr>\n",
       "      <th>120442</th>\n",
       "      <td>610660</td>\n",
       "      <td>Russian Roads</td>\n",
       "      <td>Indie, Racing, Simulation</td>\n",
       "      <td>1.99</td>\n",
       "      <td>2018-01-04</td>\n",
       "      <td>Laush Dmitriy Sergeevich</td>\n",
       "    </tr>\n",
       "    <tr>\n",
       "      <th>120443</th>\n",
       "      <td>658870</td>\n",
       "      <td>EXIT 2 - Directions</td>\n",
       "      <td>Casual, Indie</td>\n",
       "      <td>4.99</td>\n",
       "      <td>2017-09-02</td>\n",
       "      <td>xropi,stev3ns</td>\n",
       "    </tr>\n",
       "    <tr>\n",
       "      <th>120444</th>\n",
       "      <td>681550</td>\n",
       "      <td>Maze Run VR</td>\n",
       "      <td>Early Access, Adventure, Indie, Action, Simula...</td>\n",
       "      <td>4.99</td>\n",
       "      <td>None</td>\n",
       "      <td>None</td>\n",
       "    </tr>\n",
       "  </tbody>\n",
       "</table>\n",
       "<p>32135 rows × 6 columns</p>\n",
       "</div>"
      ],
      "text/plain": [
       "            id                  app_name  \\\n",
       "88310   761140       Lost Summoner Kitty   \n",
       "88311   643980                 Ironbound   \n",
       "88312   670290   Real Pool 3D - Poolians   \n",
       "88313   767400                   弹炸人2222   \n",
       "88314   773570             Log Challenge   \n",
       "...        ...                       ...   \n",
       "120440  773640            Colony On Mars   \n",
       "120441  733530  LOGistICAL: South Africa   \n",
       "120442  610660             Russian Roads   \n",
       "120443  658870       EXIT 2 - Directions   \n",
       "120444  681550               Maze Run VR   \n",
       "\n",
       "                                                   genres  price release_date  \\\n",
       "88310         Action, Casual, Indie, Simulation, Strategy   4.99   2018-01-04   \n",
       "88311                                Indie, RPG, Strategy    NaN   2018-01-04   \n",
       "88312                   Casual, Indie, Simulation, Sports    NaN   2017-07-24   \n",
       "88313                           Action, Adventure, Casual   0.99   2017-12-07   \n",
       "88314                       Action, Indie, Casual, Sports   2.99         None   \n",
       "...                                                   ...    ...          ...   \n",
       "120440                Casual, Indie, Simulation, Strategy   1.99   2018-01-04   \n",
       "120441                            Casual, Indie, Strategy   4.99   2018-01-04   \n",
       "120442                          Indie, Racing, Simulation   1.99   2018-01-04   \n",
       "120443                                      Casual, Indie   4.99   2017-09-02   \n",
       "120444  Early Access, Adventure, Indie, Action, Simula...   4.99         None   \n",
       "\n",
       "                       developer  \n",
       "88310                  Kotoshiro  \n",
       "88311           Secret Level SRL  \n",
       "88312               Poolians.com  \n",
       "88313                       彼岸领域  \n",
       "88314                       None  \n",
       "...                          ...  \n",
       "120440        Nikita \"Ghost_RUS\"  \n",
       "120441                    Sacada  \n",
       "120442  Laush Dmitriy Sergeevich  \n",
       "120443             xropi,stev3ns  \n",
       "120444                      None  \n",
       "\n",
       "[32135 rows x 6 columns]"
      ]
     },
     "execution_count": 7,
     "metadata": {},
     "output_type": "execute_result"
    }
   ],
   "source": [
    "df_games_copy"
   ]
  },
  {
   "cell_type": "markdown",
   "metadata": {},
   "source": [
    "*Desarrollamos la función correspondiente para hacer la consulta que necesitamos*"
   ]
  },
  {
   "cell_type": "code",
   "execution_count": 10,
   "metadata": {},
   "outputs": [],
   "source": [
    "def developer(desarrollador: str):\n",
    "    # Convertir la columna 'release_date' a formato de fecha si no lo está\n",
    "    df_games_copy['release_date'] = pd.to_datetime(df_games_copy['release_date'], errors='coerce')\n",
    "\n",
    "    # Filtrar el DataFrame por el desarrollador dado\n",
    "    developer_df = df_games_copy[df_games_copy['developer'] == desarrollador]\n",
    "\n",
    "    # Agrupar por año y contar la cantidad de elementos en cada grupo\n",
    "    items_por_año = developer_df.groupby(df_games_copy['release_date'].dt.year).size().reset_index(name='Cantidad de Items')\n",
    "\n",
    "    # Calcular el porcentaje de contenido gratuito para cada año\n",
    "    free_por_año = developer_df[developer_df['price'] == 'Free'].groupby(df_games_copy['release_date'].dt.year).size().reset_index(name='Contenido Free')\n",
    "\n",
    "    # Combinar los resultados en un DataFrame final\n",
    "    result_df = items_por_año.merge(free_por_año, on='release_date', how='left')\n",
    "    result_df['Contenido Free'] = (result_df['Contenido Free'] / result_df['Cantidad de Items'] * 100).fillna(0).astype(int).astype(str) + '%'\n",
    "\n",
    "    # Renombrar la columna de años\n",
    "    result_df.rename(columns={'release_date': 'Año'}, inplace=True)\n",
    "\n",
    "    return result_df\n",
    "\n"
   ]
  },
  {
   "cell_type": "code",
   "execution_count": null,
   "metadata": {},
   "outputs": [],
   "source": [
    "developer(\"Valve\")"
   ]
  },
  {
   "cell_type": "markdown",
   "metadata": {},
   "source": [
    "*Aplicamos la función y corroboramos que funcione correctamente*"
   ]
  },
  {
   "cell_type": "code",
   "execution_count": 9,
   "metadata": {},
   "outputs": [
    {
     "name": "stdout",
     "output_type": "stream",
     "text": [
      "Empty DataFrame\n",
      "Columns: [Cantidad de Items, Año, Contenido Free]\n",
      "Index: []\n"
     ]
    }
   ],
   "source": [
    "# Llamada a la función con el desarrollador \"Poppermost Productions\" y el DataFrame df_games_clean\n",
    "desarrolladorr = input(\"cargue el desarrollador: \")\n",
    "consulta = developer(desarrolladorr)\n",
    "print(consulta)"
   ]
  }
 ],
 "metadata": {
  "kernelspec": {
   "display_name": "Python 3",
   "language": "python",
   "name": "python3"
  },
  "language_info": {
   "codemirror_mode": {
    "name": "ipython",
    "version": 3
   },
   "file_extension": ".py",
   "mimetype": "text/x-python",
   "name": "python",
   "nbconvert_exporter": "python",
   "pygments_lexer": "ipython3",
   "version": "3.11.9"
  }
 },
 "nbformat": 4,
 "nbformat_minor": 2
}
