{
 "cells": [
  {
   "cell_type": "markdown",
   "metadata": {},
   "source": [
    "## ETL_user_reviews"
   ]
  },
  {
   "cell_type": "code",
   "execution_count": 6,
   "metadata": {},
   "outputs": [],
   "source": [
    "#Importamos las librerias pandas json y ast(para abrir los json que tienen un formato distinto)\n",
    "import pandas as pd \n",
    "import json as js \n",
    "import ast as ast\n"
   ]
  },
  {
   "cell_type": "markdown",
   "metadata": {},
   "source": [
    "# Creamos variables con las rutas de acceso "
   ]
  },
  {
   "cell_type": "code",
   "execution_count": 7,
   "metadata": {},
   "outputs": [],
   "source": [
    "pathreviews = r'C:\\Users\\beatr\\OneDrive\\Escritorio\\henry\\Proyecto Steam\\DataSet\\australian_user_reviews.json'"
   ]
  },
  {
   "cell_type": "markdown",
   "metadata": {},
   "source": [
    "Abrimos el archivo australian_user_reviews.json y lo guardamos en una variable "
   ]
  },
  {
   "cell_type": "code",
   "execution_count": 8,
   "metadata": {},
   "outputs": [],
   "source": [
    "\n",
    "\n",
    "lista_reviews= [] # Creamos una lista vacia \n",
    "\n",
    "with open(pathreviews, encoding='utf-8') as file: # Abrimos el archivo json con su ruta \n",
    "\n",
    "    for line in file.readlines(): # Iteramos con un cliclo for linea por linea del archivo\n",
    "        lista_reviews.append(ast.literal_eval(line)) # Agregamos a la lista creada posteriromente todos los elementos iterados usando la libreria ast\n",
    "\n",
    "# Creamos el Dataframe de la lista\n",
    "\n",
    "df_reviews  = pd.DataFrame(lista_reviews)\n",
    "\n",
    "df_reviews_clean = df_reviews.copy()"
   ]
  },
  {
   "cell_type": "code",
   "execution_count": 9,
   "metadata": {},
   "outputs": [],
   "source": [
    "df_reviews_clean = df_reviews_clean.drop('user_url', axis=1)"
   ]
  },
  {
   "cell_type": "code",
   "execution_count": 10,
   "metadata": {},
   "outputs": [],
   "source": [
    "from pandas import json_normalize\n",
    "\n",
    "#Desanidar la columna 'reviews'\n",
    "df_expanded = df_reviews_clean.explode('reviews')\n"
   ]
  },
  {
   "cell_type": "code",
   "execution_count": 11,
   "metadata": {},
   "outputs": [],
   "source": [
    "df_expanded.reset_index(drop=True, inplace=True)\n",
    "#df_expanded.head(20)"
   ]
  },
  {
   "cell_type": "code",
   "execution_count": 12,
   "metadata": {},
   "outputs": [],
   "source": [
    "#Normalizar los datos de la columna 'reviews'\n",
    "df_reviews_normalized = json_normalize(df_expanded['reviews'])\n",
    "#df_reviews_normalized.head(20)"
   ]
  },
  {
   "cell_type": "code",
   "execution_count": 13,
   "metadata": {},
   "outputs": [],
   "source": [
    "#Combinar los DataFrames original y normalizado\n",
    "df_final = pd.concat([df_expanded.drop(columns=['reviews']), df_reviews_normalized], axis=1)\n",
    "#df_final.head(20)"
   ]
  },
  {
   "cell_type": "code",
   "execution_count": 14,
   "metadata": {},
   "outputs": [],
   "source": [
    "#Lista de columnas a eliminar\n",
    "columns_to_drop = ['funny', 'last_edited', 'helpful']\n",
    "\n",
    "#Eliminar las columnas especificadas\n",
    "df_reviews_clean = df_final.drop(columns=columns_to_drop, errors='ignore')\n",
    "\n"
   ]
  },
  {
   "cell_type": "code",
   "execution_count": 15,
   "metadata": {},
   "outputs": [],
   "source": [
    "df_reviews_clean.to_parquet(r'C:\\Users\\beatr\\OneDrive\\Escritorio\\henry\\Proyecto Steam\\Consulta_Data\\df_reviews_clean.parquet', index=False)"
   ]
  }
 ],
 "metadata": {
  "kernelspec": {
   "display_name": "Python 3",
   "language": "python",
   "name": "python3"
  },
  "language_info": {
   "codemirror_mode": {
    "name": "ipython",
    "version": 3
   },
   "file_extension": ".py",
   "mimetype": "text/x-python",
   "name": "python",
   "nbconvert_exporter": "python",
   "pygments_lexer": "ipython3",
   "version": "3.11.9"
  }
 },
 "nbformat": 4,
 "nbformat_minor": 2
}
