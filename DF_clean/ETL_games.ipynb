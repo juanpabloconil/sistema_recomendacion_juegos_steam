{
 "cells": [
  {
   "cell_type": "markdown",
   "metadata": {},
   "source": [
    "# ETL_steam_games"
   ]
  },
  {
   "cell_type": "code",
   "execution_count": 1,
   "metadata": {},
   "outputs": [],
   "source": [
    "#Importamos las librerias pandas json y ast(para abrir los json que tienen un formato distinto)\n",
    "import pandas as pd \n",
    "import json as js \n",
    "import ast as ast\n"
   ]
  },
  {
   "cell_type": "markdown",
   "metadata": {},
   "source": [
    "## Creamos variables con las rutas de acceso "
   ]
  },
  {
   "cell_type": "code",
   "execution_count": 2,
   "metadata": {},
   "outputs": [],
   "source": [
    "pathgames = r'C:\\Users\\beatr\\OneDrive\\Escritorio\\henry\\Proyecto Steam\\DataSet\\output_steam_games.json'\n"
   ]
  },
  {
   "cell_type": "markdown",
   "metadata": {},
   "source": [
    "Abrimos el archivo output_steam_games.json y lo guardamos en una variable y creamos una copia para hacer las transformaciones del DF"
   ]
  },
  {
   "cell_type": "code",
   "execution_count": 3,
   "metadata": {},
   "outputs": [],
   "source": [
    "\n",
    "\n",
    "df_games = [] #Creamos una lista\n",
    "\n",
    "with open(pathgames,'rt', encoding='utf-8') as file: #Abrimos el archivo con el encoding correspondiente\n",
    "\n",
    "    for line in file: # Con un ciclo for iteramos todas las filas del archivo \n",
    "        df_games.append(js.loads(line)) # Agregamos cada una de las filas en una lista \n",
    "\n",
    "df_games  = pd.DataFrame(df_games) # Transformamos la lista en un Dataframe\n",
    "df_games.head()\n",
    " \n",
    "df_games_clean = df_games.copy() # Hacemos una copia del DataFrame para hacer modificaciones del ETL"
   ]
  },
  {
   "cell_type": "markdown",
   "metadata": {},
   "source": [
    "### Elimino las primeras 88310 filas del df_games_clean\n",
    "### Los 88310 registros eran 100% nulos"
   ]
  },
  {
   "cell_type": "code",
   "execution_count": 4,
   "metadata": {},
   "outputs": [
    {
     "data": {
      "text/html": [
       "<div>\n",
       "<style scoped>\n",
       "    .dataframe tbody tr th:only-of-type {\n",
       "        vertical-align: middle;\n",
       "    }\n",
       "\n",
       "    .dataframe tbody tr th {\n",
       "        vertical-align: top;\n",
       "    }\n",
       "\n",
       "    .dataframe thead th {\n",
       "        text-align: right;\n",
       "    }\n",
       "</style>\n",
       "<table border=\"1\" class=\"dataframe\">\n",
       "  <thead>\n",
       "    <tr style=\"text-align: right;\">\n",
       "      <th></th>\n",
       "      <th>publisher</th>\n",
       "      <th>genres</th>\n",
       "      <th>app_name</th>\n",
       "      <th>title</th>\n",
       "      <th>url</th>\n",
       "      <th>release_date</th>\n",
       "      <th>tags</th>\n",
       "      <th>reviews_url</th>\n",
       "      <th>specs</th>\n",
       "      <th>price</th>\n",
       "      <th>early_access</th>\n",
       "      <th>id</th>\n",
       "      <th>developer</th>\n",
       "    </tr>\n",
       "  </thead>\n",
       "  <tbody>\n",
       "    <tr>\n",
       "      <th>88310</th>\n",
       "      <td>Kotoshiro</td>\n",
       "      <td>[Action, Casual, Indie, Simulation, Strategy]</td>\n",
       "      <td>Lost Summoner Kitty</td>\n",
       "      <td>Lost Summoner Kitty</td>\n",
       "      <td>http://store.steampowered.com/app/761140/Lost_...</td>\n",
       "      <td>2018-01-04</td>\n",
       "      <td>[Strategy, Action, Indie, Casual, Simulation]</td>\n",
       "      <td>http://steamcommunity.com/app/761140/reviews/?...</td>\n",
       "      <td>[Single-player]</td>\n",
       "      <td>4.99</td>\n",
       "      <td>False</td>\n",
       "      <td>761140</td>\n",
       "      <td>Kotoshiro</td>\n",
       "    </tr>\n",
       "    <tr>\n",
       "      <th>88311</th>\n",
       "      <td>Making Fun, Inc.</td>\n",
       "      <td>[Free to Play, Indie, RPG, Strategy]</td>\n",
       "      <td>Ironbound</td>\n",
       "      <td>Ironbound</td>\n",
       "      <td>http://store.steampowered.com/app/643980/Ironb...</td>\n",
       "      <td>2018-01-04</td>\n",
       "      <td>[Free to Play, Strategy, Indie, RPG, Card Game...</td>\n",
       "      <td>http://steamcommunity.com/app/643980/reviews/?...</td>\n",
       "      <td>[Single-player, Multi-player, Online Multi-Pla...</td>\n",
       "      <td>Free To Play</td>\n",
       "      <td>False</td>\n",
       "      <td>643980</td>\n",
       "      <td>Secret Level SRL</td>\n",
       "    </tr>\n",
       "    <tr>\n",
       "      <th>88312</th>\n",
       "      <td>Poolians.com</td>\n",
       "      <td>[Casual, Free to Play, Indie, Simulation, Sports]</td>\n",
       "      <td>Real Pool 3D - Poolians</td>\n",
       "      <td>Real Pool 3D - Poolians</td>\n",
       "      <td>http://store.steampowered.com/app/670290/Real_...</td>\n",
       "      <td>2017-07-24</td>\n",
       "      <td>[Free to Play, Simulation, Sports, Casual, Ind...</td>\n",
       "      <td>http://steamcommunity.com/app/670290/reviews/?...</td>\n",
       "      <td>[Single-player, Multi-player, Online Multi-Pla...</td>\n",
       "      <td>Free to Play</td>\n",
       "      <td>False</td>\n",
       "      <td>670290</td>\n",
       "      <td>Poolians.com</td>\n",
       "    </tr>\n",
       "    <tr>\n",
       "      <th>88313</th>\n",
       "      <td>彼岸领域</td>\n",
       "      <td>[Action, Adventure, Casual]</td>\n",
       "      <td>弹炸人2222</td>\n",
       "      <td>弹炸人2222</td>\n",
       "      <td>http://store.steampowered.com/app/767400/2222/</td>\n",
       "      <td>2017-12-07</td>\n",
       "      <td>[Action, Adventure, Casual]</td>\n",
       "      <td>http://steamcommunity.com/app/767400/reviews/?...</td>\n",
       "      <td>[Single-player]</td>\n",
       "      <td>0.99</td>\n",
       "      <td>False</td>\n",
       "      <td>767400</td>\n",
       "      <td>彼岸领域</td>\n",
       "    </tr>\n",
       "    <tr>\n",
       "      <th>88314</th>\n",
       "      <td>NaN</td>\n",
       "      <td>NaN</td>\n",
       "      <td>Log Challenge</td>\n",
       "      <td>NaN</td>\n",
       "      <td>http://store.steampowered.com/app/773570/Log_C...</td>\n",
       "      <td>NaN</td>\n",
       "      <td>[Action, Indie, Casual, Sports]</td>\n",
       "      <td>http://steamcommunity.com/app/773570/reviews/?...</td>\n",
       "      <td>[Single-player, Full controller support, HTC V...</td>\n",
       "      <td>2.99</td>\n",
       "      <td>False</td>\n",
       "      <td>773570</td>\n",
       "      <td>NaN</td>\n",
       "    </tr>\n",
       "    <tr>\n",
       "      <th>...</th>\n",
       "      <td>...</td>\n",
       "      <td>...</td>\n",
       "      <td>...</td>\n",
       "      <td>...</td>\n",
       "      <td>...</td>\n",
       "      <td>...</td>\n",
       "      <td>...</td>\n",
       "      <td>...</td>\n",
       "      <td>...</td>\n",
       "      <td>...</td>\n",
       "      <td>...</td>\n",
       "      <td>...</td>\n",
       "      <td>...</td>\n",
       "    </tr>\n",
       "    <tr>\n",
       "      <th>120440</th>\n",
       "      <td>Ghost_RUS Games</td>\n",
       "      <td>[Casual, Indie, Simulation, Strategy]</td>\n",
       "      <td>Colony On Mars</td>\n",
       "      <td>Colony On Mars</td>\n",
       "      <td>http://store.steampowered.com/app/773640/Colon...</td>\n",
       "      <td>2018-01-04</td>\n",
       "      <td>[Strategy, Indie, Casual, Simulation]</td>\n",
       "      <td>http://steamcommunity.com/app/773640/reviews/?...</td>\n",
       "      <td>[Single-player, Steam Achievements]</td>\n",
       "      <td>1.99</td>\n",
       "      <td>False</td>\n",
       "      <td>773640</td>\n",
       "      <td>Nikita \"Ghost_RUS\"</td>\n",
       "    </tr>\n",
       "    <tr>\n",
       "      <th>120441</th>\n",
       "      <td>Sacada</td>\n",
       "      <td>[Casual, Indie, Strategy]</td>\n",
       "      <td>LOGistICAL: South Africa</td>\n",
       "      <td>LOGistICAL: South Africa</td>\n",
       "      <td>http://store.steampowered.com/app/733530/LOGis...</td>\n",
       "      <td>2018-01-04</td>\n",
       "      <td>[Strategy, Indie, Casual]</td>\n",
       "      <td>http://steamcommunity.com/app/733530/reviews/?...</td>\n",
       "      <td>[Single-player, Steam Achievements, Steam Clou...</td>\n",
       "      <td>4.99</td>\n",
       "      <td>False</td>\n",
       "      <td>733530</td>\n",
       "      <td>Sacada</td>\n",
       "    </tr>\n",
       "    <tr>\n",
       "      <th>120442</th>\n",
       "      <td>Laush Studio</td>\n",
       "      <td>[Indie, Racing, Simulation]</td>\n",
       "      <td>Russian Roads</td>\n",
       "      <td>Russian Roads</td>\n",
       "      <td>http://store.steampowered.com/app/610660/Russi...</td>\n",
       "      <td>2018-01-04</td>\n",
       "      <td>[Indie, Simulation, Racing]</td>\n",
       "      <td>http://steamcommunity.com/app/610660/reviews/?...</td>\n",
       "      <td>[Single-player, Steam Achievements, Steam Trad...</td>\n",
       "      <td>1.99</td>\n",
       "      <td>False</td>\n",
       "      <td>610660</td>\n",
       "      <td>Laush Dmitriy Sergeevich</td>\n",
       "    </tr>\n",
       "    <tr>\n",
       "      <th>120443</th>\n",
       "      <td>SIXNAILS</td>\n",
       "      <td>[Casual, Indie]</td>\n",
       "      <td>EXIT 2 - Directions</td>\n",
       "      <td>EXIT 2 - Directions</td>\n",
       "      <td>http://store.steampowered.com/app/658870/EXIT_...</td>\n",
       "      <td>2017-09-02</td>\n",
       "      <td>[Indie, Casual, Puzzle, Singleplayer, Atmosphe...</td>\n",
       "      <td>http://steamcommunity.com/app/658870/reviews/?...</td>\n",
       "      <td>[Single-player, Steam Achievements, Steam Cloud]</td>\n",
       "      <td>4.99</td>\n",
       "      <td>False</td>\n",
       "      <td>658870</td>\n",
       "      <td>xropi,stev3ns</td>\n",
       "    </tr>\n",
       "    <tr>\n",
       "      <th>120444</th>\n",
       "      <td>NaN</td>\n",
       "      <td>NaN</td>\n",
       "      <td>Maze Run VR</td>\n",
       "      <td>NaN</td>\n",
       "      <td>http://store.steampowered.com/app/681550/Maze_...</td>\n",
       "      <td>NaN</td>\n",
       "      <td>[Early Access, Adventure, Indie, Action, Simul...</td>\n",
       "      <td>http://steamcommunity.com/app/681550/reviews/?...</td>\n",
       "      <td>[Single-player, Stats, Steam Leaderboards, HTC...</td>\n",
       "      <td>4.99</td>\n",
       "      <td>True</td>\n",
       "      <td>681550</td>\n",
       "      <td>NaN</td>\n",
       "    </tr>\n",
       "  </tbody>\n",
       "</table>\n",
       "<p>32135 rows × 13 columns</p>\n",
       "</div>"
      ],
      "text/plain": [
       "               publisher                                             genres  \\\n",
       "88310          Kotoshiro      [Action, Casual, Indie, Simulation, Strategy]   \n",
       "88311   Making Fun, Inc.               [Free to Play, Indie, RPG, Strategy]   \n",
       "88312       Poolians.com  [Casual, Free to Play, Indie, Simulation, Sports]   \n",
       "88313               彼岸领域                        [Action, Adventure, Casual]   \n",
       "88314                NaN                                                NaN   \n",
       "...                  ...                                                ...   \n",
       "120440   Ghost_RUS Games              [Casual, Indie, Simulation, Strategy]   \n",
       "120441            Sacada                          [Casual, Indie, Strategy]   \n",
       "120442      Laush Studio                        [Indie, Racing, Simulation]   \n",
       "120443          SIXNAILS                                    [Casual, Indie]   \n",
       "120444               NaN                                                NaN   \n",
       "\n",
       "                        app_name                     title  \\\n",
       "88310        Lost Summoner Kitty       Lost Summoner Kitty   \n",
       "88311                  Ironbound                 Ironbound   \n",
       "88312    Real Pool 3D - Poolians   Real Pool 3D - Poolians   \n",
       "88313                    弹炸人2222                   弹炸人2222   \n",
       "88314              Log Challenge                       NaN   \n",
       "...                          ...                       ...   \n",
       "120440            Colony On Mars            Colony On Mars   \n",
       "120441  LOGistICAL: South Africa  LOGistICAL: South Africa   \n",
       "120442             Russian Roads             Russian Roads   \n",
       "120443       EXIT 2 - Directions       EXIT 2 - Directions   \n",
       "120444               Maze Run VR                       NaN   \n",
       "\n",
       "                                                      url release_date  \\\n",
       "88310   http://store.steampowered.com/app/761140/Lost_...   2018-01-04   \n",
       "88311   http://store.steampowered.com/app/643980/Ironb...   2018-01-04   \n",
       "88312   http://store.steampowered.com/app/670290/Real_...   2017-07-24   \n",
       "88313      http://store.steampowered.com/app/767400/2222/   2017-12-07   \n",
       "88314   http://store.steampowered.com/app/773570/Log_C...          NaN   \n",
       "...                                                   ...          ...   \n",
       "120440  http://store.steampowered.com/app/773640/Colon...   2018-01-04   \n",
       "120441  http://store.steampowered.com/app/733530/LOGis...   2018-01-04   \n",
       "120442  http://store.steampowered.com/app/610660/Russi...   2018-01-04   \n",
       "120443  http://store.steampowered.com/app/658870/EXIT_...   2017-09-02   \n",
       "120444  http://store.steampowered.com/app/681550/Maze_...          NaN   \n",
       "\n",
       "                                                     tags  \\\n",
       "88310       [Strategy, Action, Indie, Casual, Simulation]   \n",
       "88311   [Free to Play, Strategy, Indie, RPG, Card Game...   \n",
       "88312   [Free to Play, Simulation, Sports, Casual, Ind...   \n",
       "88313                         [Action, Adventure, Casual]   \n",
       "88314                     [Action, Indie, Casual, Sports]   \n",
       "...                                                   ...   \n",
       "120440              [Strategy, Indie, Casual, Simulation]   \n",
       "120441                          [Strategy, Indie, Casual]   \n",
       "120442                        [Indie, Simulation, Racing]   \n",
       "120443  [Indie, Casual, Puzzle, Singleplayer, Atmosphe...   \n",
       "120444  [Early Access, Adventure, Indie, Action, Simul...   \n",
       "\n",
       "                                              reviews_url  \\\n",
       "88310   http://steamcommunity.com/app/761140/reviews/?...   \n",
       "88311   http://steamcommunity.com/app/643980/reviews/?...   \n",
       "88312   http://steamcommunity.com/app/670290/reviews/?...   \n",
       "88313   http://steamcommunity.com/app/767400/reviews/?...   \n",
       "88314   http://steamcommunity.com/app/773570/reviews/?...   \n",
       "...                                                   ...   \n",
       "120440  http://steamcommunity.com/app/773640/reviews/?...   \n",
       "120441  http://steamcommunity.com/app/733530/reviews/?...   \n",
       "120442  http://steamcommunity.com/app/610660/reviews/?...   \n",
       "120443  http://steamcommunity.com/app/658870/reviews/?...   \n",
       "120444  http://steamcommunity.com/app/681550/reviews/?...   \n",
       "\n",
       "                                                    specs         price  \\\n",
       "88310                                     [Single-player]          4.99   \n",
       "88311   [Single-player, Multi-player, Online Multi-Pla...  Free To Play   \n",
       "88312   [Single-player, Multi-player, Online Multi-Pla...  Free to Play   \n",
       "88313                                     [Single-player]          0.99   \n",
       "88314   [Single-player, Full controller support, HTC V...          2.99   \n",
       "...                                                   ...           ...   \n",
       "120440                [Single-player, Steam Achievements]          1.99   \n",
       "120441  [Single-player, Steam Achievements, Steam Clou...          4.99   \n",
       "120442  [Single-player, Steam Achievements, Steam Trad...          1.99   \n",
       "120443   [Single-player, Steam Achievements, Steam Cloud]          4.99   \n",
       "120444  [Single-player, Stats, Steam Leaderboards, HTC...          4.99   \n",
       "\n",
       "       early_access      id                 developer  \n",
       "88310         False  761140                 Kotoshiro  \n",
       "88311         False  643980          Secret Level SRL  \n",
       "88312         False  670290              Poolians.com  \n",
       "88313         False  767400                      彼岸领域  \n",
       "88314         False  773570                       NaN  \n",
       "...             ...     ...                       ...  \n",
       "120440        False  773640        Nikita \"Ghost_RUS\"  \n",
       "120441        False  733530                    Sacada  \n",
       "120442        False  610660  Laush Dmitriy Sergeevich  \n",
       "120443        False  658870             xropi,stev3ns  \n",
       "120444         True  681550                       NaN  \n",
       "\n",
       "[32135 rows x 13 columns]"
      ]
     },
     "execution_count": 4,
     "metadata": {},
     "output_type": "execute_result"
    }
   ],
   "source": [
    "df_games_clean = df_games_clean.drop(df_games_clean.index[:88310]) #Dropeamos los registros \n",
    "df_games_clean"
   ]
  },
  {
   "cell_type": "markdown",
   "metadata": {},
   "source": [
    "### Comparamos las columanas app_name y title\n"
   ]
  },
  {
   "cell_type": "markdown",
   "metadata": {},
   "source": [
    "A patir de este analisis determinamos que 'app_name' y 'title' son  iguales \n"
   ]
  },
  {
   "cell_type": "code",
   "execution_count": 5,
   "metadata": {},
   "outputs": [
    {
     "name": "stdout",
     "output_type": "stream",
     "text": [
      "<bound method Series.info of 88310      True\n",
      "88311      True\n",
      "88312      True\n",
      "88313      True\n",
      "88314     False\n",
      "          ...  \n",
      "120440     True\n",
      "120441     True\n",
      "120442     True\n",
      "120443     True\n",
      "120444    False\n",
      "Length: 32135, dtype: bool>\n",
      "29530\n",
      "2605\n",
      " En la columna title hay 2050 nulos \n",
      " En la columna app_name hay 2 nulos \n",
      "las filas sin nulos son y diferentes valores son 553\n"
     ]
    }
   ],
   "source": [
    "array_comp = df_games_clean[\"app_name\"] == df_games_clean[\"title\"]\n",
    "\n",
    "print(array_comp.info)\n",
    "\n",
    "\n",
    "\n",
    "# Contabilizamos las cant de verdaderos (valores identicos en ambas columnas) y falsos (valores distintos en cada columna) del nuevo arreglo \n",
    "\n",
    "print(array_comp.value_counts().get(True, 0))\n",
    "valores_dif= array_comp.value_counts().get(False, 0)\n",
    "print(valores_dif)\n",
    "\n",
    "# Contabilizamos las cant de nulos en cada columna \n",
    "nulos_title = df_games_clean[\"title\"].isnull()\n",
    "cantidad_nulos_title = df_games_clean[\"title\"].isnull().sum()\n",
    "print(f\" En la columna title hay {cantidad_nulos_title} nulos \")\n",
    "\n",
    "\n",
    "\n",
    "nulos_app_name = df_games_clean[\"app_name\"].isnull()\n",
    "cantidad_nulos_app_name = df_games_clean[\"app_name\"].isnull().sum()\n",
    "print(f\" En la columna app_name hay {cantidad_nulos_app_name} nulos \")\n",
    "\n",
    "# Sumo la cantidad de valores nulos de cada columna y se lo resto a la cantidad de valores distintos\n",
    "nulos = cantidad_nulos_app_name + cantidad_nulos_title\n",
    "filas_sin_nulos = valores_dif - nulos\n",
    "print(f\"las filas sin nulos son y diferentes valores son {filas_sin_nulos}\")\n"
   ]
  },
  {
   "cell_type": "markdown",
   "metadata": {},
   "source": [
    " Buscamos datos nulos en la columna app name (que son solo 2 valores) y se entiende que tambien son nulos en la columna title por lo tanto esta ultima no tiene relevancia "
   ]
  },
  {
   "cell_type": "code",
   "execution_count": 6,
   "metadata": {},
   "outputs": [
    {
     "name": "stdout",
     "output_type": "stream",
     "text": [
      "Índice: 88384\n",
      "publisher                                  NaN\n",
      "genres                                     NaN\n",
      "app_name                                   NaN\n",
      "title                                      NaN\n",
      "url             http://store.steampowered.com/\n",
      "release_date                               NaN\n",
      "tags                                       NaN\n",
      "reviews_url                                NaN\n",
      "specs                                      NaN\n",
      "price                                    19.99\n",
      "early_access                             False\n",
      "id                                         NaN\n",
      "developer                                  NaN\n",
      "Name: 88384, dtype: object\n",
      "Índice: 90890\n",
      "publisher                                                     NaN\n",
      "genres                                            [Action, Indie]\n",
      "app_name                                                      NaN\n",
      "title                                                         NaN\n",
      "url                   http://store.steampowered.com/app/317160/_/\n",
      "release_date                                           2014-08-26\n",
      "tags                                              [Action, Indie]\n",
      "reviews_url     http://steamcommunity.com/app/317160/reviews/?...\n",
      "specs                                  [Single-player, Game demo]\n",
      "price                                                         NaN\n",
      "early_access                                                False\n",
      "id                                                         317160\n",
      "developer                                                     NaN\n",
      "Name: 90890, dtype: object\n"
     ]
    }
   ],
   "source": [
    "filas_nulas = df_games_clean[df_games_clean['app_name'].isnull()]\n",
    "\n",
    "#Iteramos para determinar la fila en la que estan los datos nulos \n",
    "\n",
    "for i, fila in filas_nulas.iterrows():\n",
    "  print(f\"Índice: {i}\")\n",
    "  print(fila)"
   ]
  },
  {
   "cell_type": "markdown",
   "metadata": {},
   "source": [
    "### Cruzamos los valores nulos en la columna 'genres' con los valores de la misma fila en la columna 'tags' y viseversa\n",
    "    Encontramos que estas dos columnas tienen practicamente la misma info por lo tanto:\n",
    "        *Completamos los valores nulos de 'genre' con los correspondientes en la columna 'tags'\n",
    "        *Completamos los valores nulos de 'tags' con los correspondientes en la columna 'genre'\n"
   ]
  },
  {
   "cell_type": "code",
   "execution_count": 7,
   "metadata": {},
   "outputs": [],
   "source": [
    "df_games_clean['genres'].fillna(df_games_clean['tags'], inplace=True)"
   ]
  },
  {
   "cell_type": "code",
   "execution_count": 8,
   "metadata": {},
   "outputs": [],
   "source": [
    "df_games_clean['tags'].fillna(df_games_clean['genres'], inplace=True)"
   ]
  },
  {
   "cell_type": "markdown",
   "metadata": {},
   "source": [
    "### A partir de el analisis del DF definimos que :\n",
    "    * La columna 'price' va a contener el precio y si los juegos son gratuitos \n",
    "    * La columna 'genres' va contener la informacion del genero principal del juego \n",
    "    * La columna 'tags'  deja de tener relevancia en el DF y se elimina"
   ]
  },
  {
   "cell_type": "markdown",
   "metadata": {},
   "source": [
    "#### Limpieza de valores innecesario para obtener las etiquetas de juegos gratuitos \"Free to Play \""
   ]
  },
  {
   "cell_type": "code",
   "execution_count": 9,
   "metadata": {},
   "outputs": [],
   "source": [
    "#Función para filtrar y mantener solo los elementos \"Free to Play\" o None si no se encuentra\n",
    "def extract_free_to_play(tags):\n",
    "    try:\n",
    "        tags_list = ast.literal_eval(tags)\n",
    "        if 'Free to Play' in tags_list:\n",
    "            return 'Free to Play'\n",
    "        else:\n",
    "            return None\n",
    "    except (SyntaxError, ValueError):\n",
    "        return None\n",
    "\n",
    "#Aplicar la función a la columna 'tags'\n",
    "df_games_clean['tags'] = df_games_clean['tags'].apply(extract_free_to_play)"
   ]
  },
  {
   "cell_type": "markdown",
   "metadata": {},
   "source": [
    "Dividir la cadena por comas y tomar el primer elemento\n"
   ]
  },
  {
   "cell_type": "code",
   "execution_count": 11,
   "metadata": {},
   "outputs": [],
   "source": [
    "#df_games_clean['genres'] = df_games_clean['genres'].str.split(',').str[0].str.strip()"
   ]
  },
  {
   "cell_type": "markdown",
   "metadata": {},
   "source": [
    "Rellenar los valores nulos en la columna 'price' con los valores de la misma fila en la columna 'tags'\n"
   ]
  },
  {
   "cell_type": "code",
   "execution_count": 12,
   "metadata": {},
   "outputs": [],
   "source": [
    "df_games_clean['price'].fillna(df_games_clean['tags'], inplace=True)"
   ]
  },
  {
   "cell_type": "markdown",
   "metadata": {},
   "source": [
    "Código para transformar todo los \"Free to Play\" a free"
   ]
  },
  {
   "cell_type": "code",
   "execution_count": 13,
   "metadata": {},
   "outputs": [],
   "source": [
    "df_games_clean['price'] = df_games_clean['price'].replace('(?i)Free to Play', 'Free', regex=True)"
   ]
  },
  {
   "cell_type": "markdown",
   "metadata": {},
   "source": [
    "### Limpiamos los valores de la columna genres y dejamos solo el titulo principal"
   ]
  },
  {
   "cell_type": "markdown",
   "metadata": {},
   "source": [
    "### "
   ]
  },
  {
   "cell_type": "code",
   "execution_count": 14,
   "metadata": {},
   "outputs": [],
   "source": [
    "import ast\n",
    "\n",
    "#Convertir los datos de la columna 'genres' a cadenas\n",
    "df_games_clean['genres'] = df_games_clean['genres'].astype(str)\n",
    "\n",
    "#Función para eliminar \"Free to Play\" de los géneros\n",
    "def eliminar_free_to_play(generos):\n",
    "    try:\n",
    "        lista_generos = ast.literal_eval(generos)  # Convertir cadena a lista\n",
    "        if lista_generos is None:\n",
    "            return None\n",
    "        # Eliminar \"Free to Play\" si está presente\n",
    "        if \"Free to Play\" in lista_generos:\n",
    "            lista_generos.remove(\"Free to Play\")\n",
    "        # Convertir de nuevo a cadena y devolver\n",
    "        return ', '.join(lista_generos)\n",
    "    except (SyntaxError, ValueError):\n",
    "        return None\n",
    "\n",
    "#Aplicar la función a la columna 'genres'\n",
    "df_games_clean['genres'] = df_games_clean['genres'].apply(eliminar_free_to_play)"
   ]
  },
  {
   "cell_type": "markdown",
   "metadata": {},
   "source": [
    "### Las columnas developer y publisher contienen las misma informacion por lo tanto:\n",
    "\n",
    "    *Cruzamos los valores nulos en la columna 'developer' con los valores de la misma fila en la columna 'publisher'\n",
    "    *Completamos la columna \"developer\" y desacartamos la informacion de la columna 'publisher' "
   ]
  },
  {
   "cell_type": "code",
   "execution_count": 15,
   "metadata": {},
   "outputs": [],
   "source": [
    "df_games_clean['developer'].fillna(df_games_clean['publisher'], inplace=True)"
   ]
  },
  {
   "cell_type": "markdown",
   "metadata": {},
   "source": [
    "### Eliminamos las columnas innecesarias "
   ]
  },
  {
   "cell_type": "code",
   "execution_count": 16,
   "metadata": {},
   "outputs": [],
   "source": [
    "#Lista de columnas a eliminar\n",
    "columns_to_drop = ['url', 'reviews_url', 'specs', 'early_access' , 'publisher', 'tags', 'title']\n",
    "\n",
    "#Eliminar las columnas especificadas\n",
    "df_games_clean = df_games_clean.drop(columns=columns_to_drop, errors='ignore')"
   ]
  },
  {
   "cell_type": "markdown",
   "metadata": {},
   "source": [
    "### Define el nuevo orden de las columnas"
   ]
  },
  {
   "cell_type": "code",
   "execution_count": 17,
   "metadata": {},
   "outputs": [
    {
     "data": {
      "text/html": [
       "<div>\n",
       "<style scoped>\n",
       "    .dataframe tbody tr th:only-of-type {\n",
       "        vertical-align: middle;\n",
       "    }\n",
       "\n",
       "    .dataframe tbody tr th {\n",
       "        vertical-align: top;\n",
       "    }\n",
       "\n",
       "    .dataframe thead th {\n",
       "        text-align: right;\n",
       "    }\n",
       "</style>\n",
       "<table border=\"1\" class=\"dataframe\">\n",
       "  <thead>\n",
       "    <tr style=\"text-align: right;\">\n",
       "      <th></th>\n",
       "      <th>id</th>\n",
       "      <th>app_name</th>\n",
       "      <th>genres</th>\n",
       "      <th>price</th>\n",
       "      <th>release_date</th>\n",
       "      <th>developer</th>\n",
       "    </tr>\n",
       "  </thead>\n",
       "  <tbody>\n",
       "    <tr>\n",
       "      <th>88310</th>\n",
       "      <td>761140</td>\n",
       "      <td>Lost Summoner Kitty</td>\n",
       "      <td>Action, Casual, Indie, Simulation, Strategy</td>\n",
       "      <td>4.99</td>\n",
       "      <td>2018-01-04</td>\n",
       "      <td>Kotoshiro</td>\n",
       "    </tr>\n",
       "    <tr>\n",
       "      <th>88311</th>\n",
       "      <td>643980</td>\n",
       "      <td>Ironbound</td>\n",
       "      <td>Indie, RPG, Strategy</td>\n",
       "      <td>Free</td>\n",
       "      <td>2018-01-04</td>\n",
       "      <td>Secret Level SRL</td>\n",
       "    </tr>\n",
       "    <tr>\n",
       "      <th>88312</th>\n",
       "      <td>670290</td>\n",
       "      <td>Real Pool 3D - Poolians</td>\n",
       "      <td>Casual, Indie, Simulation, Sports</td>\n",
       "      <td>Free</td>\n",
       "      <td>2017-07-24</td>\n",
       "      <td>Poolians.com</td>\n",
       "    </tr>\n",
       "    <tr>\n",
       "      <th>88313</th>\n",
       "      <td>767400</td>\n",
       "      <td>弹炸人2222</td>\n",
       "      <td>Action, Adventure, Casual</td>\n",
       "      <td>0.99</td>\n",
       "      <td>2017-12-07</td>\n",
       "      <td>彼岸领域</td>\n",
       "    </tr>\n",
       "    <tr>\n",
       "      <th>88314</th>\n",
       "      <td>773570</td>\n",
       "      <td>Log Challenge</td>\n",
       "      <td>Action, Indie, Casual, Sports</td>\n",
       "      <td>2.99</td>\n",
       "      <td>NaN</td>\n",
       "      <td>NaN</td>\n",
       "    </tr>\n",
       "    <tr>\n",
       "      <th>...</th>\n",
       "      <td>...</td>\n",
       "      <td>...</td>\n",
       "      <td>...</td>\n",
       "      <td>...</td>\n",
       "      <td>...</td>\n",
       "      <td>...</td>\n",
       "    </tr>\n",
       "    <tr>\n",
       "      <th>120440</th>\n",
       "      <td>773640</td>\n",
       "      <td>Colony On Mars</td>\n",
       "      <td>Casual, Indie, Simulation, Strategy</td>\n",
       "      <td>1.99</td>\n",
       "      <td>2018-01-04</td>\n",
       "      <td>Nikita \"Ghost_RUS\"</td>\n",
       "    </tr>\n",
       "    <tr>\n",
       "      <th>120441</th>\n",
       "      <td>733530</td>\n",
       "      <td>LOGistICAL: South Africa</td>\n",
       "      <td>Casual, Indie, Strategy</td>\n",
       "      <td>4.99</td>\n",
       "      <td>2018-01-04</td>\n",
       "      <td>Sacada</td>\n",
       "    </tr>\n",
       "    <tr>\n",
       "      <th>120442</th>\n",
       "      <td>610660</td>\n",
       "      <td>Russian Roads</td>\n",
       "      <td>Indie, Racing, Simulation</td>\n",
       "      <td>1.99</td>\n",
       "      <td>2018-01-04</td>\n",
       "      <td>Laush Dmitriy Sergeevich</td>\n",
       "    </tr>\n",
       "    <tr>\n",
       "      <th>120443</th>\n",
       "      <td>658870</td>\n",
       "      <td>EXIT 2 - Directions</td>\n",
       "      <td>Casual, Indie</td>\n",
       "      <td>4.99</td>\n",
       "      <td>2017-09-02</td>\n",
       "      <td>xropi,stev3ns</td>\n",
       "    </tr>\n",
       "    <tr>\n",
       "      <th>120444</th>\n",
       "      <td>681550</td>\n",
       "      <td>Maze Run VR</td>\n",
       "      <td>Early Access, Adventure, Indie, Action, Simula...</td>\n",
       "      <td>4.99</td>\n",
       "      <td>NaN</td>\n",
       "      <td>NaN</td>\n",
       "    </tr>\n",
       "  </tbody>\n",
       "</table>\n",
       "<p>32135 rows × 6 columns</p>\n",
       "</div>"
      ],
      "text/plain": [
       "            id                  app_name  \\\n",
       "88310   761140       Lost Summoner Kitty   \n",
       "88311   643980                 Ironbound   \n",
       "88312   670290   Real Pool 3D - Poolians   \n",
       "88313   767400                   弹炸人2222   \n",
       "88314   773570             Log Challenge   \n",
       "...        ...                       ...   \n",
       "120440  773640            Colony On Mars   \n",
       "120441  733530  LOGistICAL: South Africa   \n",
       "120442  610660             Russian Roads   \n",
       "120443  658870       EXIT 2 - Directions   \n",
       "120444  681550               Maze Run VR   \n",
       "\n",
       "                                                   genres price release_date  \\\n",
       "88310         Action, Casual, Indie, Simulation, Strategy  4.99   2018-01-04   \n",
       "88311                                Indie, RPG, Strategy  Free   2018-01-04   \n",
       "88312                   Casual, Indie, Simulation, Sports  Free   2017-07-24   \n",
       "88313                           Action, Adventure, Casual  0.99   2017-12-07   \n",
       "88314                       Action, Indie, Casual, Sports  2.99          NaN   \n",
       "...                                                   ...   ...          ...   \n",
       "120440                Casual, Indie, Simulation, Strategy  1.99   2018-01-04   \n",
       "120441                            Casual, Indie, Strategy  4.99   2018-01-04   \n",
       "120442                          Indie, Racing, Simulation  1.99   2018-01-04   \n",
       "120443                                      Casual, Indie  4.99   2017-09-02   \n",
       "120444  Early Access, Adventure, Indie, Action, Simula...  4.99          NaN   \n",
       "\n",
       "                       developer  \n",
       "88310                  Kotoshiro  \n",
       "88311           Secret Level SRL  \n",
       "88312               Poolians.com  \n",
       "88313                       彼岸领域  \n",
       "88314                        NaN  \n",
       "...                          ...  \n",
       "120440        Nikita \"Ghost_RUS\"  \n",
       "120441                    Sacada  \n",
       "120442  Laush Dmitriy Sergeevich  \n",
       "120443             xropi,stev3ns  \n",
       "120444                       NaN  \n",
       "\n",
       "[32135 rows x 6 columns]"
      ]
     },
     "execution_count": 17,
     "metadata": {},
     "output_type": "execute_result"
    }
   ],
   "source": [
    "nuevo_orden_columnas = [\n",
    "    'id',\n",
    "    'app_name',\n",
    "    'genres',\n",
    "    'price',\n",
    "    'release_date',\n",
    "    'developer'\n",
    "]\n",
    "\n",
    "# Reordena las columnas del DataFrame con el nuevo orden\n",
    "df_games_clean = df_games_clean[nuevo_orden_columnas]\n",
    "\n",
    "df_games_clean"
   ]
  },
  {
   "cell_type": "code",
   "execution_count": 20,
   "metadata": {},
   "outputs": [],
   "source": [
    "# Suponiendo que df_games_clean es tu DataFrame existente\n",
    "# Convertir la columna 'price' a tipo numérico, convirtiendo los valores no numéricos a NaN\n",
    "df_games_clean['price'] = pd.to_numeric(df_games_clean['price'], errors='coerce')\n",
    "\n",
    "# Guardar el DataFrame en formato parquet\n",
    "df_games_clean.to_parquet(r'C:\\Users\\beatr\\OneDrive\\Escritorio\\henry\\Proyecto Steam\\Consulta_Data\\df_games_clean.parquet')\n"
   ]
  },
  {
   "cell_type": "markdown",
   "metadata": {},
   "source": [
    "### Creacion DF especificos por consulta "
   ]
  },
  {
   "cell_type": "markdown",
   "metadata": {},
   "source": []
  },
  {
   "cell_type": "code",
   "execution_count": null,
   "metadata": {},
   "outputs": [],
   "source": [
    "#Consulta 2\n",
    "\n",
    "df_games_clean_consuta2 = df_games_clean['id','price']\n"
   ]
  },
  {
   "cell_type": "code",
   "execution_count": null,
   "metadata": {},
   "outputs": [],
   "source": [
    "#Consulta 3\n",
    "\n",
    "df_games_clean_consulta3 = df_games_clean['id','app_name','genre','release_date',]\n"
   ]
  },
  {
   "cell_type": "code",
   "execution_count": null,
   "metadata": {},
   "outputs": [],
   "source": [
    "#Consulta 4\n",
    "\n",
    "df_games_clean_consuta4 = df_games_clean['id','developer', 'release_date']"
   ]
  },
  {
   "cell_type": "code",
   "execution_count": null,
   "metadata": {},
   "outputs": [],
   "source": [
    "#Consulta 5\n",
    "\n",
    "df_games_clean_consuta5 = df_games_clean['id','developer']"
   ]
  }
 ],
 "metadata": {
  "kernelspec": {
   "display_name": "Python 3",
   "language": "python",
   "name": "python3"
  },
  "language_info": {
   "codemirror_mode": {
    "name": "ipython",
    "version": 3
   },
   "file_extension": ".py",
   "mimetype": "text/x-python",
   "name": "python",
   "nbconvert_exporter": "python",
   "pygments_lexer": "ipython3",
   "version": "3.11.9"
  }
 },
 "nbformat": 4,
 "nbformat_minor": 2
}
